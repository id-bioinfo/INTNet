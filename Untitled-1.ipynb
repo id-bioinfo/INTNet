{
 "cells": [
  {
   "cell_type": "code",
   "execution_count": 1,
   "metadata": {},
   "outputs": [
    {
     "name": "stdout",
     "output_type": "stream",
     "text": [
      "      Gene Accession Number  \\\n",
      "0                  X04555.1   \n",
      "1                  X12868.1   \n",
      "2                  X12870.1   \n",
      "3                  M84965.1   \n",
      "4                  M60473.1   \n",
      "...                     ...   \n",
      "20309         NZ_LR963132.1   \n",
      "20310  NZ_CAJIMW020000221.1   \n",
      "20311         NZ_HG992755.1   \n",
      "20312  NZ_CAJQGQ010000028.1   \n",
      "20313           NC_013926.1   \n",
      "\n",
      "                                         Gene Definition  \\\n",
      "0      IncC multiresistance plasmid pDGO100 aadB gene...   \n",
      "1      Plasmid pLMO20 dhfrV gene for trimethoprim res...   \n",
      "2      Transposon Tn21 (plasmid R6-5) aadA-sulI regio...   \n",
      "3       B.subtilis groES and groEL genes, complete cds's   \n",
      "4      R100.1 plasmid/bacteriophage T4/synthetic amin...   \n",
      "...                                                  ...   \n",
      "20309  Aeromonas hydrophila strain vAh ST251 isolate ...   \n",
      "20310  Vibrio sp. B1REV9 chromosome 1 map unlocalized...   \n",
      "20311                    Vibrio sp. B1FIG11 chromosome 1   \n",
      "20312  Klebsiella pneumoniae isolate RH201207, whole ...   \n",
      "20313    Aciduliprofundum boonei T469, complete sequence   \n",
      "\n",
      "                      Sample Source                 Gene Organism  \\\n",
      "0              uncultured bacterium          uncultured bacterium   \n",
      "1                    Plasmid pLMO20                Plasmid pLMO20   \n",
      "2                  Escherichia coli              Escherichia coli   \n",
      "3                 Bacillus subtilis             Bacillus subtilis   \n",
      "4               synthetic construct           synthetic construct   \n",
      "...                             ...                           ...   \n",
      "20309          Aeromonas hydrophila          Aeromonas hydrophila   \n",
      "20310             Vibrio sp. B1REV9             Vibrio sp. B1REV9   \n",
      "20311            Vibrio sp. B1FIG11            Vibrio sp. B1FIG11   \n",
      "20312         Klebsiella pneumoniae         Klebsiella pneumoniae   \n",
      "20313  Aciduliprofundum boonei T469  Aciduliprofundum boonei T469   \n",
      "\n",
      "       Isolation Source Collection Date Collection Country       Taxon ID  \\\n",
      "0                   NaN             NaN                NaN    taxon:77133   \n",
      "1                   NaN             NaN                NaN    taxon:88772   \n",
      "2                   NaN             NaN                NaN      taxon:562   \n",
      "3                   NaN             NaN                NaN     taxon:1423   \n",
      "4                   NaN             NaN                NaN    taxon:32630   \n",
      "...                 ...             ...                ...            ...   \n",
      "20309               NaN            2015           Viet Nam      taxon:644   \n",
      "20310     ENVO:01000905             NaN                NaN  taxon:2751179   \n",
      "20311     ENVO:01000905             NaN                NaN  taxon:2751177   \n",
      "20312  clinical isolate             NaN                NaN      taxon:573   \n",
      "20313               NaN             NaN                NaN   taxon:439481   \n",
      "\n",
      "                   BioProject               BioSample  ... Reference_22  \\\n",
      "0                         NaN                     NaN  ...          NaN   \n",
      "1                         NaN                     NaN  ...          NaN   \n",
      "2                         NaN                     NaN  ...          NaN   \n",
      "3                         NaN                     NaN  ...          NaN   \n",
      "4                         NaN                     NaN  ...          NaN   \n",
      "...                       ...                     ...  ...          ...   \n",
      "20309  BioProject:PRJNA224116  BioSample:SAMEA7678029  ...          NaN   \n",
      "20310  BioProject:PRJNA224116  BioSample:SAMEA7746101  ...          NaN   \n",
      "20311  BioProject:PRJNA224116  BioSample:SAMEA7746102  ...          NaN   \n",
      "20312  BioProject:PRJNA224116  BioSample:SAMEA7354490  ...          NaN   \n",
      "20313  BioProject:PRJNA224116  BioSample:SAMN02598523  ...          NaN   \n",
      "\n",
      "      Reference_23 Reference_24 Reference_25 Reference_26 Reference_27  \\\n",
      "0              NaN          NaN          NaN          NaN          NaN   \n",
      "1              NaN          NaN          NaN          NaN          NaN   \n",
      "2              NaN          NaN          NaN          NaN          NaN   \n",
      "3              NaN          NaN          NaN          NaN          NaN   \n",
      "4              NaN          NaN          NaN          NaN          NaN   \n",
      "...            ...          ...          ...          ...          ...   \n",
      "20309          NaN          NaN          NaN          NaN          NaN   \n",
      "20310          NaN          NaN          NaN          NaN          NaN   \n",
      "20311          NaN          NaN          NaN          NaN          NaN   \n",
      "20312          NaN          NaN          NaN          NaN          NaN   \n",
      "20313          NaN          NaN          NaN          NaN          NaN   \n",
      "\n",
      "      Reference_28 Reference_29 Reference_30 Reference_31  \n",
      "0              NaN          NaN          NaN          NaN  \n",
      "1              NaN          NaN          NaN          NaN  \n",
      "2              NaN          NaN          NaN          NaN  \n",
      "3              NaN          NaN          NaN          NaN  \n",
      "4              NaN          NaN          NaN          NaN  \n",
      "...            ...          ...          ...          ...  \n",
      "20309          NaN          NaN          NaN          NaN  \n",
      "20310          NaN          NaN          NaN          NaN  \n",
      "20311          NaN          NaN          NaN          NaN  \n",
      "20312          NaN          NaN          NaN          NaN  \n",
      "20313          NaN          NaN          NaN          NaN  \n",
      "\n",
      "[20314 rows x 42 columns]\n"
     ]
    }
   ],
   "source": [
    "\n",
    "file_path = \"/Users/seanji02/Documents/HKRA/IntNet/final_2.csv\"\n",
    "df = pd.read_csv(file_path, dtype='object')\n",
    "print(df)"
   ]
  },
  {
   "cell_type": "code",
   "execution_count": 34,
   "metadata": {},
   "outputs": [],
   "source": [
    "import pandas as pd\n",
    "import numpy as np"
   ]
  },
  {
   "cell_type": "code",
   "execution_count": 2,
   "metadata": {},
   "outputs": [],
   "source": [
    "def standardise_date(date_str):\n",
    "    try:\n",
    "        return pd.to_datetime(date_str)\n",
    "    except:\n",
    "        return date_str\n",
    "\n",
    "df['new_collection_date']=df['Collection Date'].apply(standardise_date)"
   ]
  },
  {
   "cell_type": "code",
   "execution_count": 3,
   "metadata": {},
   "outputs": [
    {
     "name": "stdout",
     "output_type": "stream",
     "text": [
      "{'BioSampleID': '3138218', 'Name': 'Non-tumor DNA sample from Blood of a human male participant in the dbGaP study \"Sequencing of Targeted Genomic Regions Associated with Smoking\"', 'gap_accession': 'phs000813', 'submitter handle': 'NCI_CIDR_SmokingTargetedGenomicRegions', 'biospecimen repository': 'NCI_CIDR_SmokingTargetedGenomicRegions', 'study name': 'Sequencing of Targeted Genomic Regions Associated with Smoking', 'study design': 'Case-Control', 'biospecimen repository sample id': '200545232@1069782958', 'submitted sample id': '200545232@1069782958', 'submitted subject id': '548294', 'gap_sample_id': '1408545', 'gap_subject_id': '1076135', 'sex': 'male', 'body site': 'Blood', 'histological type': 'Blood', 'analyte type': 'DNA', 'is tumor': 'No', 'molecular data type': 'SNP Genotypes (NGS)', 'gap_consent_code': '1', 'gap_consent_short_name': 'HMB-MDS'}\n"
     ]
    }
   ],
   "source": [
    "from Bio import Entrez \n",
    "\n",
    "import xml.etree.ElementTree as ET \n",
    "\n",
    "  \n",
    "\n",
    "# Always provide your email when using NCBI Entrez \n",
    "\n",
    "Entrez.email = \"XIANGYU270208@GMAIL.COM\"  # Replace with your email \n",
    "\n",
    "  \n",
    "\n",
    "def fetch_biosample_details(biosample_id): \n",
    "\n",
    "    # Fetch the biosample record using efetch \n",
    "\n",
    "    handle = Entrez.efetch(db=\"biosample\", id=biosample_id, retmode=\"xml\") \n",
    "\n",
    "    record = handle.read() \n",
    "\n",
    "  \n",
    "\n",
    "    # Parse the XML record \n",
    "\n",
    "    root = ET.fromstring(record) \n",
    "\n",
    "  \n",
    "\n",
    "    # Extracting information \n",
    "\n",
    "    biosample_data = {} \n",
    "\n",
    "    for biosample in root.findall('BioSample'): \n",
    "\n",
    "        # Get various attributes \n",
    "\n",
    "        biosample_data['BioSampleID'] = biosample.get('id') \n",
    "\n",
    "        biosample_data['Name'] = biosample.find('Description/Title').text \n",
    "\n",
    "        # Add other attributes as needed \n",
    "\n",
    "  \n",
    "\n",
    "        # Extract attributes from the Attributes section \n",
    "\n",
    "        for attribute in biosample.find('Attributes').findall('Attribute'): \n",
    "\n",
    "            attr_name = attribute.get('attribute_name') \n",
    "\n",
    "            biosample_data[attr_name] = attribute.text \n",
    "\n",
    "  \n",
    "\n",
    "    return biosample_data \n",
    "\n",
    "  \n",
    "\n",
    "# Example usage \n",
    "\n",
    "biosample_id = \"SAMEA3138218\"  # Replace with your BioSample ID \n",
    "\n",
    "details = fetch_biosample_details(biosample_id) \n",
    "\n",
    "print(details) "
   ]
  },
  {
   "cell_type": "code",
   "execution_count": 30,
   "metadata": {},
   "outputs": [],
   "source": [
    "name1=['Isolation Source', 'Collection Date', 'Collection Country']\n",
    "name2=['BioSample','BioProject']\n",
    "\n",
    "selected_rows = df[df[name1].isna().any(axis=1) & df[name2].notna().any(axis=1)]\n",
    "\n",
    "\n"
   ]
  },
  {
   "cell_type": "code",
   "execution_count": 56,
   "metadata": {},
   "outputs": [],
   "source": [
    "details_list = []\n",
    "for i in range(100):\n",
    "    biosample_id = selected_rows.iloc[i]['BioSample']\n",
    "    if pd.isnull(biosample_id):\n",
    "        details = {}\n",
    "    else:\n",
    "      details =  fetch_biosample_details(biosample_id)\n",
    "    details_list.append(details)\n",
    "\n",
    "\n",
    "\n"
   ]
  },
  {
   "cell_type": "code",
   "execution_count": 57,
   "metadata": {},
   "outputs": [],
   "source": [
    "detailed_list = pd.DataFrame(details_list)"
   ]
  },
  {
   "cell_type": "code",
   "execution_count": 60,
   "metadata": {},
   "outputs": [
    {
     "name": "stdout",
     "output_type": "stream",
     "text": [
      "['BioSampleID', 'Name', 'strain', 'pathovar', 'type-material', 'serovar', 'sub_species', 'gap_accession', 'submitter handle', 'biospecimen repository', 'study name', 'study design', 'biospecimen repository sample id', 'submitted sample id', 'submitted subject id', 'gap_sample_id', 'gap_subject_id', 'sex', 'body site', 'histological type', 'analyte type', 'is tumor', 'molecular data type', 'gap_consent_code', 'gap_consent_short_name', 'subject is affected', 'subsrc_note', 'sub-species', 'isolation-source', 'subtype', 'subgroup', 'lab-host', 'orgmod_note', 'culture-collection', 'country', 'note', 'GOLD Stamp ID', 'Isolation Site', 'Oxygen Requirement', 'Temperature Range', 'Biotic Relationship', 'Diseases', 'Habitat', 'serotype', 'Greengenes ID', 'Cell Shape', 'Motility', 'Gram Staining', 'Phenotypes', 'Energy Source', 'Temperature Optimum', 'lat-lon', 'Depth', 'Sporulation', 'Strain', 'Sample Number', 'collection-date', 'biotic_relationship', 'rel_to_oxygen', 'environment', 'num_replicons', 'ref_biomaterial', 'trophic_level', 'isol_growth_condt', 'lat_lon', 'collection_date', 'investigation_type', 'project_name', 'alt_elev', 'Funding Program', 'depth']\n"
     ]
    }
   ],
   "source": [
    "print(list(detailed_list))"
   ]
  }
 ],
 "metadata": {
  "kernelspec": {
   "display_name": "Python 3",
   "language": "python",
   "name": "python3"
  },
  "language_info": {
   "codemirror_mode": {
    "name": "ipython",
    "version": 3
   },
   "file_extension": ".py",
   "mimetype": "text/x-python",
   "name": "python",
   "nbconvert_exporter": "python",
   "pygments_lexer": "ipython3",
   "version": "3.11.5"
  }
 },
 "nbformat": 4,
 "nbformat_minor": 2
}
