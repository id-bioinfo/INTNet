{
 "cells": [
  {
   "cell_type": "code",
   "execution_count": 21,
   "metadata": {},
   "outputs": [],
   "source": [
    "import json\n",
    "import pandas as pd\n",
    "\n",
    "\n",
    "data_file=r\"C:\\Users\\seanji\\Desktop\\IntNet-sean-s-branch\\stored_data.json\"\n",
    "with open(data_file, 'r') as file:\n",
    "    ds = json.load(file) \n",
    "\n",
    "\n",
    "\n",
    "\n",
    "df = pd.DataFrame(ds)\n",
    "\n",
    "\n",
    "\n",
    "#df = pd.DataFrame(ds,columns=['NCBI Accession Number','Definition','Source','Organism', 'Isolation Source', 'Coolection Date', 'Country', 'Taxon ID', 'BioProject', 'Biosample', 'Ref'  ])\n",
    "\n",
    "\n",
    "#note: in some truncations, might be some repeated items, need to clean \n",
    "#note: i=1814 failed\n",
    "\n",
    "\n",
    "#def unique(lists):\n",
    "#    unique_list = pd.Series(lists).drop_duplicates().tolist()\n",
    "#    for x in unique_list:\n",
    "#        print(x)\n",
    "#unique(lists)"
   ]
  },
  {
   "cell_type": "code",
   "execution_count": 22,
   "metadata": {},
   "outputs": [],
   "source": [
    "\n",
    "\n",
    "# Path to your text file \n",
    "\n",
    "file_path = r\"C:\\Users\\seanji\\Desktop\\IntNet-sean-s-branch\\output2.txt\" \n",
    "\n",
    "  \n",
    "\n",
    "# Read the file and create a DataFrame \n",
    "\n",
    "with open(file_path, 'r') as file: \n",
    "\n",
    "    file_contents = file.readlines() \n",
    "\n",
    "df2 = pd.DataFrame([line.strip() for line in file_contents], columns=['Data']) \n",
    "\n",
    "  \n",
    "\n",
    "\n",
    " "
   ]
  },
  {
   "cell_type": "code",
   "execution_count": 61,
   "metadata": {},
   "outputs": [],
   "source": [
    "df3=df3.drop([4562, 4563])"
   ]
  },
  {
   "cell_type": "code",
   "execution_count": 59,
   "metadata": {},
   "outputs": [],
   "source": [
    "df3=df3.drop('level_0', axis=1)"
   ]
  },
  {
   "cell_type": "code",
   "execution_count": 63,
   "metadata": {},
   "outputs": [
    {
     "name": "stdout",
     "output_type": "stream",
     "text": [
      "1814\n"
     ]
    }
   ],
   "source": [
    "for i in range(4562):\n",
    "    if df3.iloc[i,0]!=df2.iloc[i,0]:\n",
    "        print(i)"
   ]
  },
  {
   "cell_type": "code",
   "execution_count": null,
   "metadata": {},
   "outputs": [],
   "source": []
  },
  {
   "cell_type": "code",
   "execution_count": 67,
   "metadata": {},
   "outputs": [],
   "source": [
    "datalist = df3.values.tolist()\n",
    "output_file_path =r\"C:\\Users\\seanji\\Desktop\\IntNet-sean-s-branch\\output.json\"\n",
    "with open(output_file_path,'w') as file:\n",
    "    json.dump(datalist, file)"
   ]
  },
  {
   "cell_type": "code",
   "execution_count": null,
   "metadata": {},
   "outputs": [],
   "source": [
    "import json\n",
    "output_file_path =r\"C:\\Users\\seanji\\Desktop\\IntNet-sean-s-branch\\output_5000-8000.json\"\n",
    "with open(output_file_path, 'r') as file:\n",
    "    hihi=json.load(file)"
   ]
  }
 ],
 "metadata": {
  "kernelspec": {
   "display_name": "Python 3",
   "language": "python",
   "name": "python3"
  },
  "language_info": {
   "codemirror_mode": {
    "name": "ipython",
    "version": 3
   },
   "file_extension": ".py",
   "mimetype": "text/x-python",
   "name": "python",
   "nbconvert_exporter": "python",
   "pygments_lexer": "ipython3",
   "version": "3.11.5"
  }
 },
 "nbformat": 4,
 "nbformat_minor": 2
}
